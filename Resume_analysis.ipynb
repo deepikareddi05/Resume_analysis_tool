{
  "nbformat": 4,
  "nbformat_minor": 0,
  "metadata": {
    "colab": {
      "provenance": [],
      "authorship_tag": "ABX9TyN+hSm0+/s4Zzcw51OPgJcn",
      "include_colab_link": true
    },
    "kernelspec": {
      "name": "python3",
      "display_name": "Python 3"
    },
    "language_info": {
      "name": "python"
    }
  },
  "cells": [
    {
      "cell_type": "markdown",
      "metadata": {
        "id": "view-in-github",
        "colab_type": "text"
      },
      "source": [
        "<a href=\"https://colab.research.google.com/github/deepikareddi05/Resume_analysis_tool/blob/main/Resume_analysis.ipynb\" target=\"_parent\"><img src=\"https://colab.research.google.com/assets/colab-badge.svg\" alt=\"Open In Colab\"/></a>"
      ]
    },
    {
      "cell_type": "code",
      "execution_count": null,
      "metadata": {
        "colab": {
          "base_uri": "https://localhost:8080/"
        },
        "id": "zSAP4XMh6QZS",
        "outputId": "f0daa4b8-0e8b-487d-b80b-002a390499a6"
      },
      "outputs": [
        {
          "output_type": "stream",
          "name": "stdout",
          "text": [
            "Requirement already satisfied: Flask in /usr/local/lib/python3.11/dist-packages (3.1.0)\n",
            "Collecting PyPDF2\n",
            "  Downloading pypdf2-3.0.1-py3-none-any.whl.metadata (6.8 kB)\n",
            "Collecting pdfplumber\n",
            "  Downloading pdfplumber-0.11.6-py3-none-any.whl.metadata (42 kB)\n",
            "\u001b[2K     \u001b[90m━━━━━━━━━━━━━━━━━━━━━━━━━━━━━━━━━━━━━━━━\u001b[0m \u001b[32m42.8/42.8 kB\u001b[0m \u001b[31m1.6 MB/s\u001b[0m eta \u001b[36m0:00:00\u001b[0m\n",
            "\u001b[?25hRequirement already satisfied: pandas in /usr/local/lib/python3.11/dist-packages (2.2.2)\n",
            "Requirement already satisfied: nltk in /usr/local/lib/python3.11/dist-packages (3.9.1)\n",
            "Requirement already satisfied: scikit-learn in /usr/local/lib/python3.11/dist-packages (1.6.1)\n",
            "Requirement already satisfied: textblob in /usr/local/lib/python3.11/dist-packages (0.19.0)\n",
            "Requirement already satisfied: Werkzeug>=3.1 in /usr/local/lib/python3.11/dist-packages (from Flask) (3.1.3)\n",
            "Requirement already satisfied: Jinja2>=3.1.2 in /usr/local/lib/python3.11/dist-packages (from Flask) (3.1.6)\n",
            "Requirement already satisfied: itsdangerous>=2.2 in /usr/local/lib/python3.11/dist-packages (from Flask) (2.2.0)\n",
            "Requirement already satisfied: click>=8.1.3 in /usr/local/lib/python3.11/dist-packages (from Flask) (8.1.8)\n",
            "Requirement already satisfied: blinker>=1.9 in /usr/local/lib/python3.11/dist-packages (from Flask) (1.9.0)\n",
            "Collecting pdfminer.six==20250327 (from pdfplumber)\n",
            "  Downloading pdfminer_six-20250327-py3-none-any.whl.metadata (4.1 kB)\n",
            "Requirement already satisfied: Pillow>=9.1 in /usr/local/lib/python3.11/dist-packages (from pdfplumber) (11.1.0)\n",
            "Collecting pypdfium2>=4.18.0 (from pdfplumber)\n",
            "  Downloading pypdfium2-4.30.1-py3-none-manylinux_2_17_x86_64.manylinux2014_x86_64.whl.metadata (48 kB)\n",
            "\u001b[2K     \u001b[90m━━━━━━━━━━━━━━━━━━━━━━━━━━━━━━━━━━━━━━━━\u001b[0m \u001b[32m48.2/48.2 kB\u001b[0m \u001b[31m1.2 MB/s\u001b[0m eta \u001b[36m0:00:00\u001b[0m\n",
            "\u001b[?25hRequirement already satisfied: charset-normalizer>=2.0.0 in /usr/local/lib/python3.11/dist-packages (from pdfminer.six==20250327->pdfplumber) (3.4.1)\n",
            "Requirement already satisfied: cryptography>=36.0.0 in /usr/local/lib/python3.11/dist-packages (from pdfminer.six==20250327->pdfplumber) (43.0.3)\n",
            "Requirement already satisfied: numpy>=1.23.2 in /usr/local/lib/python3.11/dist-packages (from pandas) (2.0.2)\n",
            "Requirement already satisfied: python-dateutil>=2.8.2 in /usr/local/lib/python3.11/dist-packages (from pandas) (2.8.2)\n",
            "Requirement already satisfied: pytz>=2020.1 in /usr/local/lib/python3.11/dist-packages (from pandas) (2025.2)\n",
            "Requirement already satisfied: tzdata>=2022.7 in /usr/local/lib/python3.11/dist-packages (from pandas) (2025.2)\n",
            "Requirement already satisfied: joblib in /usr/local/lib/python3.11/dist-packages (from nltk) (1.4.2)\n",
            "Requirement already satisfied: regex>=2021.8.3 in /usr/local/lib/python3.11/dist-packages (from nltk) (2024.11.6)\n",
            "Requirement already satisfied: tqdm in /usr/local/lib/python3.11/dist-packages (from nltk) (4.67.1)\n",
            "Requirement already satisfied: scipy>=1.6.0 in /usr/local/lib/python3.11/dist-packages (from scikit-learn) (1.14.1)\n",
            "Requirement already satisfied: threadpoolctl>=3.1.0 in /usr/local/lib/python3.11/dist-packages (from scikit-learn) (3.6.0)\n",
            "Requirement already satisfied: MarkupSafe>=2.0 in /usr/local/lib/python3.11/dist-packages (from Jinja2>=3.1.2->Flask) (3.0.2)\n",
            "Requirement already satisfied: six>=1.5 in /usr/local/lib/python3.11/dist-packages (from python-dateutil>=2.8.2->pandas) (1.17.0)\n",
            "Requirement already satisfied: cffi>=1.12 in /usr/local/lib/python3.11/dist-packages (from cryptography>=36.0.0->pdfminer.six==20250327->pdfplumber) (1.17.1)\n",
            "Requirement already satisfied: pycparser in /usr/local/lib/python3.11/dist-packages (from cffi>=1.12->cryptography>=36.0.0->pdfminer.six==20250327->pdfplumber) (2.22)\n",
            "Downloading pypdf2-3.0.1-py3-none-any.whl (232 kB)\n",
            "\u001b[2K   \u001b[90m━━━━━━━━━━━━━━━━━━━━━━━━━━━━━━━━━━━━━━━━\u001b[0m \u001b[32m232.6/232.6 kB\u001b[0m \u001b[31m6.6 MB/s\u001b[0m eta \u001b[36m0:00:00\u001b[0m\n",
            "\u001b[?25hDownloading pdfplumber-0.11.6-py3-none-any.whl (60 kB)\n",
            "\u001b[2K   \u001b[90m━━━━━━━━━━━━━━━━━━━━━━━━━━━━━━━━━━━━━━━━\u001b[0m \u001b[32m60.2/60.2 kB\u001b[0m \u001b[31m2.4 MB/s\u001b[0m eta \u001b[36m0:00:00\u001b[0m\n",
            "\u001b[?25hDownloading pdfminer_six-20250327-py3-none-any.whl (5.6 MB)\n",
            "\u001b[2K   \u001b[90m━━━━━━━━━━━━━━━━━━━━━━━━━━━━━━━━━━━━━━━━\u001b[0m \u001b[32m5.6/5.6 MB\u001b[0m \u001b[31m27.1 MB/s\u001b[0m eta \u001b[36m0:00:00\u001b[0m\n",
            "\u001b[?25hDownloading pypdfium2-4.30.1-py3-none-manylinux_2_17_x86_64.manylinux2014_x86_64.whl (2.9 MB)\n",
            "\u001b[2K   \u001b[90m━━━━━━━━━━━━━━━━━━━━━━━━━━━━━━━━━━━━━━━━\u001b[0m \u001b[32m2.9/2.9 MB\u001b[0m \u001b[31m35.1 MB/s\u001b[0m eta \u001b[36m0:00:00\u001b[0m\n",
            "\u001b[?25hInstalling collected packages: pypdfium2, PyPDF2, pdfminer.six, pdfplumber\n",
            "Successfully installed PyPDF2-3.0.1 pdfminer.six-20250327 pdfplumber-0.11.6 pypdfium2-4.30.1\n"
          ]
        }
      ],
      "source": [
        "!pip install Flask PyPDF2 pdfplumber pandas nltk scikit-learn textblob"
      ]
    },
    {
      "cell_type": "code",
      "source": [
        "import flask, PyPDF2, pdfplumber, pandas, nltk, sklearn, textblob\n",
        "print(\"All libraries installed successfully!\")\n"
      ],
      "metadata": {
        "colab": {
          "base_uri": "https://localhost:8080/"
        },
        "id": "ueVS2Jxh6xAJ",
        "outputId": "506bb8cf-2900-405f-a300-b27235367458"
      },
      "execution_count": null,
      "outputs": [
        {
          "output_type": "stream",
          "name": "stdout",
          "text": [
            "All libraries installed successfully!\n"
          ]
        }
      ]
    },
    {
      "cell_type": "code",
      "source": [
        "import pdfplumber\n",
        "import nltk\n",
        "from nltk.tokenize import word_tokenize\n",
        "from sklearn.feature_extraction.text import CountVectorizer\n",
        "from textblob import TextBlob\n",
        "\n",
        "nltk.download('punkt')  # Download tokenizer\n"
      ],
      "metadata": {
        "colab": {
          "base_uri": "https://localhost:8080/"
        },
        "id": "CuWpz8WX6-8-",
        "outputId": "ab4bd441-ddf9-4bee-f3f3-a2958b6635b4"
      },
      "execution_count": null,
      "outputs": [
        {
          "output_type": "stream",
          "name": "stderr",
          "text": [
            "[nltk_data] Downloading package punkt to /root/nltk_data...\n",
            "[nltk_data]   Unzipping tokenizers/punkt.zip.\n"
          ]
        },
        {
          "output_type": "execute_result",
          "data": {
            "text/plain": [
              "True"
            ]
          },
          "metadata": {},
          "execution_count": 3
        }
      ]
    },
    {
      "cell_type": "code",
      "source": [
        "def extract_text_from_pdf(pdf_path):\n",
        "    text = \"\"\n",
        "    with pdfplumber.open(pdf_path) as pdf:\n",
        "        for page in pdf.pages:\n",
        "            text += page.extract_text() + \"\\n\"\n",
        "    return text\n",
        "\n",
        "def analyze_resume(resume_text, job_keywords):\n",
        "    tokens = word_tokenize(resume_text.lower())  # Tokenizing\n",
        "    matched_skills = [skill for skill in job_keywords if skill in tokens]\n",
        "    missing_skills = [skill for skill in job_keywords if skill not in tokens]\n",
        "\n",
        "    # Sentiment Analysis\n",
        "    sentiment = TextBlob(resume_text).sentiment.polarity\n",
        "\n",
        "    return matched_skills, missing_skills, sentiment\n"
      ],
      "metadata": {
        "id": "E9U6xN0E7EEf"
      },
      "execution_count": null,
      "outputs": []
    },
    {
      "cell_type": "code",
      "source": [
        "import nltk\n",
        "nltk.download('punkt')\n"
      ],
      "metadata": {
        "colab": {
          "base_uri": "https://localhost:8080/"
        },
        "id": "hRUKpwC97uJs",
        "outputId": "cea454be-4b0e-46f5-9e27-1ae46262f828"
      },
      "execution_count": null,
      "outputs": [
        {
          "output_type": "stream",
          "name": "stderr",
          "text": [
            "[nltk_data] Downloading package punkt to /root/nltk_data...\n",
            "[nltk_data]   Package punkt is already up-to-date!\n"
          ]
        },
        {
          "output_type": "execute_result",
          "data": {
            "text/plain": [
              "True"
            ]
          },
          "metadata": {},
          "execution_count": 7
        }
      ]
    },
    {
      "cell_type": "code",
      "source": [
        "import nltk\n",
        "nltk.download('punkt')\n"
      ],
      "metadata": {
        "colab": {
          "base_uri": "https://localhost:8080/"
        },
        "id": "U6gUE8P-8Hli",
        "outputId": "ecaaa635-344f-4fe9-bff6-960979795ba9"
      },
      "execution_count": null,
      "outputs": [
        {
          "output_type": "stream",
          "name": "stderr",
          "text": [
            "[nltk_data] Downloading package punkt to /root/nltk_data...\n",
            "[nltk_data]   Package punkt is already up-to-date!\n"
          ]
        },
        {
          "output_type": "execute_result",
          "data": {
            "text/plain": [
              "True"
            ]
          },
          "metadata": {},
          "execution_count": 9
        }
      ]
    },
    {
      "cell_type": "code",
      "source": [
        "!pip install nltk==3.8\n"
      ],
      "metadata": {
        "colab": {
          "base_uri": "https://localhost:8080/"
        },
        "id": "RKnjagiJ8MAh",
        "outputId": "6e5538cc-d76b-4cd8-a771-6d26220d5ccd"
      },
      "execution_count": null,
      "outputs": [
        {
          "output_type": "stream",
          "name": "stdout",
          "text": [
            "Requirement already satisfied: nltk==3.8 in /usr/local/lib/python3.11/dist-packages (3.8)\n",
            "Requirement already satisfied: click in /usr/local/lib/python3.11/dist-packages (from nltk==3.8) (8.1.8)\n",
            "Requirement already satisfied: joblib in /usr/local/lib/python3.11/dist-packages (from nltk==3.8) (1.4.2)\n",
            "Requirement already satisfied: regex>=2021.8.3 in /usr/local/lib/python3.11/dist-packages (from nltk==3.8) (2024.11.6)\n",
            "Requirement already satisfied: tqdm in /usr/local/lib/python3.11/dist-packages (from nltk==3.8) (4.67.1)\n"
          ]
        }
      ]
    },
    {
      "cell_type": "code",
      "source": [
        "import nltk\n",
        "nltk.download('punkt')\n"
      ],
      "metadata": {
        "colab": {
          "base_uri": "https://localhost:8080/"
        },
        "id": "hckOCdsU8VJE",
        "outputId": "a601e1d9-631f-482d-e5c3-7f715aea5bef"
      },
      "execution_count": null,
      "outputs": [
        {
          "output_type": "stream",
          "name": "stderr",
          "text": [
            "[nltk_data] Downloading package punkt to /root/nltk_data...\n",
            "[nltk_data]   Package punkt is already up-to-date!\n"
          ]
        },
        {
          "output_type": "execute_result",
          "data": {
            "text/plain": [
              "True"
            ]
          },
          "metadata": {},
          "execution_count": 2
        }
      ]
    },
    {
      "cell_type": "code",
      "source": [
        "def extract_text_from_pdf(pdf_path):\n",
        "    text = \"\"\n",
        "    with pdfplumber.open(pdf_path) as pdf:\n",
        "        for page in pdf.pages:\n",
        "            text += page.extract_text() + \"\\n\"\n",
        "    return text\n",
        "\n",
        "def analyze_resume(resume_text, job_keywords):\n",
        "    tokens = word_tokenize(resume_text.lower())  # Tokenizing\n",
        "    matched_skills = [skill for skill in job_keywords if skill in tokens]\n",
        "    missing_skills = [skill for skill in job_keywords if skill not in tokens]\n",
        "\n",
        "    # Sentiment Analysis\n",
        "    sentiment = TextBlob(resume_text).sentiment.polarity\n",
        "\n",
        "    return matched_skills, missing_skills, sentiment\n"
      ],
      "metadata": {
        "id": "hYg6MmPY8aKa"
      },
      "execution_count": null,
      "outputs": []
    },
    {
      "cell_type": "code",
      "source": [
        "!pip install pdfplumber\n"
      ],
      "metadata": {
        "colab": {
          "base_uri": "https://localhost:8080/"
        },
        "id": "vnFfZreC8nvT",
        "outputId": "52371824-fb48-44ac-b562-c63da450dafa"
      },
      "execution_count": null,
      "outputs": [
        {
          "output_type": "stream",
          "name": "stdout",
          "text": [
            "Requirement already satisfied: pdfplumber in /usr/local/lib/python3.11/dist-packages (0.11.6)\n",
            "Requirement already satisfied: pdfminer.six==20250327 in /usr/local/lib/python3.11/dist-packages (from pdfplumber) (20250327)\n",
            "Requirement already satisfied: Pillow>=9.1 in /usr/local/lib/python3.11/dist-packages (from pdfplumber) (11.1.0)\n",
            "Requirement already satisfied: pypdfium2>=4.18.0 in /usr/local/lib/python3.11/dist-packages (from pdfplumber) (4.30.1)\n",
            "Requirement already satisfied: charset-normalizer>=2.0.0 in /usr/local/lib/python3.11/dist-packages (from pdfminer.six==20250327->pdfplumber) (3.4.1)\n",
            "Requirement already satisfied: cryptography>=36.0.0 in /usr/local/lib/python3.11/dist-packages (from pdfminer.six==20250327->pdfplumber) (43.0.3)\n",
            "Requirement already satisfied: cffi>=1.12 in /usr/local/lib/python3.11/dist-packages (from cryptography>=36.0.0->pdfminer.six==20250327->pdfplumber) (1.17.1)\n",
            "Requirement already satisfied: pycparser in /usr/local/lib/python3.11/dist-packages (from cffi>=1.12->cryptography>=36.0.0->pdfminer.six==20250327->pdfplumber) (2.22)\n"
          ]
        }
      ]
    },
    {
      "cell_type": "code",
      "source": [
        "import pdfplumber\n"
      ],
      "metadata": {
        "id": "2Oer_ziu8q5s"
      },
      "execution_count": null,
      "outputs": []
    },
    {
      "cell_type": "code",
      "source": [
        "import os\n",
        "os._exit(00)\n"
      ],
      "metadata": {
        "id": "5JsF6vSW88K9"
      },
      "execution_count": null,
      "outputs": []
    },
    {
      "cell_type": "code",
      "source": [
        "def extract_text_from_pdf(pdf_path):\n",
        "    text = \"\"\n",
        "    with pdfplumber.open(pdf_path) as pdf:\n",
        "        for page in pdf.pages:\n",
        "            text += page.extract_text() + \"\\n\"\n",
        "    return text\n",
        "\n",
        "def analyze_resume(resume_text, job_keywords):\n",
        "    tokens = word_tokenize(resume_text.lower())  # Tokenizing\n",
        "    matched_skills = [skill for skill in job_keywords if skill in tokens]\n",
        "    missing_skills = [skill for skill in job_keywords if skill not in tokens]\n",
        "\n",
        "    # Sentiment Analysis\n",
        "    sentiment = TextBlob(resume_text).sentiment.polarity\n",
        "\n",
        "    return matched_skills, missing_skills, sentiment\n"
      ],
      "metadata": {
        "id": "truJ-mME8_l5"
      },
      "execution_count": null,
      "outputs": []
    },
    {
      "cell_type": "code",
      "source": [
        "!pip install PyPDF2\n"
      ],
      "metadata": {
        "colab": {
          "base_uri": "https://localhost:8080/"
        },
        "id": "riwYVZ5d9YBH",
        "outputId": "baca28a9-1ffa-42f2-cace-6b8006792791"
      },
      "execution_count": 3,
      "outputs": [
        {
          "output_type": "stream",
          "name": "stdout",
          "text": [
            "Collecting PyPDF2\n",
            "  Downloading pypdf2-3.0.1-py3-none-any.whl.metadata (6.8 kB)\n",
            "Downloading pypdf2-3.0.1-py3-none-any.whl (232 kB)\n",
            "\u001b[?25l   \u001b[90m━━━━━━━━━━━━━━━━━━━━━━━━━━━━━━━━━━━━━━━━\u001b[0m \u001b[32m0.0/232.6 kB\u001b[0m \u001b[31m?\u001b[0m eta \u001b[36m-:--:--\u001b[0m\r\u001b[2K   \u001b[91m━━━━━━━━━━━━━━━━━━━━━━━━━━━━━━━━━━━━━━\u001b[0m\u001b[91m╸\u001b[0m\u001b[90m━\u001b[0m \u001b[32m225.3/232.6 kB\u001b[0m \u001b[31m7.5 MB/s\u001b[0m eta \u001b[36m0:00:01\u001b[0m\r\u001b[2K   \u001b[90m━━━━━━━━━━━━━━━━━━━━━━━━━━━━━━━━━━━━━━━━\u001b[0m \u001b[32m232.6/232.6 kB\u001b[0m \u001b[31m5.7 MB/s\u001b[0m eta \u001b[36m0:00:00\u001b[0m\n",
            "\u001b[?25hInstalling collected packages: PyPDF2\n",
            "Successfully installed PyPDF2-3.0.1\n"
          ]
        }
      ]
    },
    {
      "cell_type": "code",
      "source": [
        "import PyPDF2\n",
        "\n",
        "def extract_text_from_pdf(pdf_path):\n",
        "    text = \"\"\n",
        "    with open(pdf_path, \"rb\") as file:\n",
        "        reader = PyPDF2.PdfReader(file)\n",
        "        for page in reader.pages:\n",
        "            text += page.extract_text() + \"\\n\"\n",
        "    return text\n",
        "\n",
        "# Example usage\n",
        "resume_path = \"RESUME1.pdf\"  # Change this to your actual file path\n",
        "resume_text = extract_text_from_pdf(resume_path)\n",
        "print(resume_text)  # This will print the extracted text\n"
      ],
      "metadata": {
        "colab": {
          "base_uri": "https://localhost:8080/"
        },
        "id": "97iRyG0q9bcg",
        "outputId": "1959d410-8b42-4f52-c393-6de014f80f06"
      },
      "execution_count": null,
      "outputs": [
        {
          "output_type": "stream",
          "name": "stdout",
          "text": [
            "Challapilla Lalitha Haripriya   \n",
            "lalithaharipriya4424@gmail.com | github.com/HariPriya4424  | | linkedin.com/in/lalitha -hari-priya +91 \n",
            "7842010201  \n",
            "Carrer Objective  \n",
            "  \n",
            "Aspiring Computer Science and Engineering graduate with a solid foundation in programming, data structures, and software \n",
            "development.To enhance my professional skills, capabilities and knowledge in an organization which recognizes the value of \n",
            "hard work and t rusts me with responsibilities and challenges.  \n",
            "Education  \n",
            "  \n",
            "B.Tech in Computer Science and systems engineering   \n",
            "• Lendi Institute of Engineering and Technology, Vizianagaram.  \n",
            "• CGPA : 8.9  2021 – 2025  \n",
            "Intermediate - 12th grade   \n",
            "• Sri Chaintanya Junior College, Vizianagaram.  \n",
            "• CGPA : 8.7  \n",
            "SSC - Class 10th   \n",
            "• P S R School, Vizianagaram  \n",
            "• CGPA : 9.3  \n",
            "Skills  2019 – 2021  \n",
            "2018 - \n",
            "2019  \n",
            "Technical Skills: C , C sharp , Java, python , javaScript , HTML.  \n",
            "Tools: Servicenow ,WEKA , Packet Tracer , Tablaue.  \n",
            "Soft skills: communication, problem -solving, teamwork, Fast learner, Well -disciplined and dedicated.  \n",
            "Projects   \n",
            "Nature Artisan  Dec 2023  \n",
            "• Developed a web application for users to browse and purchase Bio -Degradable products by using HTML and CSS.  \n",
            "Predicting the Impact of Climate change on birds | Present  Jun 2024  \n",
            "• Developed a machine learning model using bird sightings and climate data to analyze the impact of climate change on \n",
            "species distribution over four decades.  \n",
            "• Enhanced model accuracy through spatial analytics and the generation of pseudo -absences, while cleaning and preparing \n",
            "large datasets for analysis .  \n",
            " \n",
            "Industrail Security   Mar  2024  \n",
            "• Developed an IoT -based security solution to enhance the protection of industrial environments by leveraging connected \n",
            "devices and real -time data analytics.   \n",
            "• The project focused on securing industrial control systems (ICS) and operational technology (OT) networks from cyber \n",
            "threats, physical intrusions, and operational anomalies.  \n",
            "  \n",
            "Internships  \n",
            "  \n",
            "Salesforce Developer | (Smartinternz)  May - Jun 2024  \n",
            "• Completed the comprehensive salesforce Developer program, gaining proeficiency in core functionalities like object \n",
            "creation,data manipulation and automation workflows.  \n",
            "• Developed and tested Salesforce applications using Apex, Visualforce, and Lightning components.  \n",
            "Process Mining Virtual Internship | (Celonis)  Apr - Jun 2024  \n",
            "• Analyzed process data using Celonis’ process mining software to identify inefficiencies and areas for improvement.  \n",
            "• Created process models and visualizations to help clients understand their process flows and performances.  \n",
            " \n",
            "Certifications  \n",
            "  \n",
            "Android Developer | India Edu Program   \n",
            "• Successfully completed the 10 -weeks certification,supported by India Edu program.  sep - Nov 2023  \n",
            "Privacy and Security in Online Social Media | NPTEL  • \n",
            "Successfully completed the 12 -weeks online certification.  Jul - Oct 2023  \n",
            "Design and Implementation of Human -Computer Interfaces | NPTEL  \n",
            "• Successfully completed the two 12 -week course online certifications.  Jul - Oct 2023  \n",
            "User Centric for Human -Computer Interaction | NPTEL  \n",
            "•Successfully completed the 8 -weeks online certifications . \n",
            "Global Certified ServiceNow Administrator|ServiceNow • \n",
            "Successfully completed the 8 -weeks online certifications.  \n",
            " \n",
            "Achievements  Jan - Mar 2024  \n",
            " \n",
            " \n",
            "Sept 2024  \n",
            "  \n",
            "• 1st Runner up in Hacktriad  season -1, a 72Hrs innovation challenge organized by Lendi Institute of Engineering and \n",
            "Technology in association with SmartBridge Educational Services Pvt Ltd. | 2024  \n",
            "• Secured 1st place in paper presentation on Engineers day conducted by Lendi Institute of Engineering and Technology . | \n",
            "2023  \n",
            "• Secured B1 grade in Upskill assesses english language ability test. | 2022  \n",
            "\n"
          ]
        }
      ]
    },
    {
      "cell_type": "code",
      "source": [
        "!pip install PyPDF2"
      ],
      "metadata": {
        "colab": {
          "base_uri": "https://localhost:8080/"
        },
        "id": "8cEsKN3m90tF",
        "outputId": "1ca45ba5-6f36-444b-f671-1c1d1e85836f"
      },
      "execution_count": null,
      "outputs": [
        {
          "output_type": "stream",
          "name": "stdout",
          "text": [
            "Requirement already satisfied: PyPDF2 in /usr/local/lib/python3.11/dist-packages (3.0.1)\n"
          ]
        }
      ]
    },
    {
      "cell_type": "code",
      "source": [
        "from google.colab import files\n",
        "uploaded = files.upload()\n",
        "\n"
      ],
      "metadata": {
        "colab": {
          "base_uri": "https://localhost:8080/",
          "height": 73
        },
        "id": "pwsOLlKl-C07",
        "outputId": "b417a77d-a20a-4641-8502-c89f2ec22415"
      },
      "execution_count": 13,
      "outputs": [
        {
          "output_type": "display_data",
          "data": {
            "text/plain": [
              "<IPython.core.display.HTML object>"
            ],
            "text/html": [
              "\n",
              "     <input type=\"file\" id=\"files-406bd11e-b1e8-48d6-901d-051a163c8251\" name=\"files[]\" multiple disabled\n",
              "        style=\"border:none\" />\n",
              "     <output id=\"result-406bd11e-b1e8-48d6-901d-051a163c8251\">\n",
              "      Upload widget is only available when the cell has been executed in the\n",
              "      current browser session. Please rerun this cell to enable.\n",
              "      </output>\n",
              "      <script>// Copyright 2017 Google LLC\n",
              "//\n",
              "// Licensed under the Apache License, Version 2.0 (the \"License\");\n",
              "// you may not use this file except in compliance with the License.\n",
              "// You may obtain a copy of the License at\n",
              "//\n",
              "//      http://www.apache.org/licenses/LICENSE-2.0\n",
              "//\n",
              "// Unless required by applicable law or agreed to in writing, software\n",
              "// distributed under the License is distributed on an \"AS IS\" BASIS,\n",
              "// WITHOUT WARRANTIES OR CONDITIONS OF ANY KIND, either express or implied.\n",
              "// See the License for the specific language governing permissions and\n",
              "// limitations under the License.\n",
              "\n",
              "/**\n",
              " * @fileoverview Helpers for google.colab Python module.\n",
              " */\n",
              "(function(scope) {\n",
              "function span(text, styleAttributes = {}) {\n",
              "  const element = document.createElement('span');\n",
              "  element.textContent = text;\n",
              "  for (const key of Object.keys(styleAttributes)) {\n",
              "    element.style[key] = styleAttributes[key];\n",
              "  }\n",
              "  return element;\n",
              "}\n",
              "\n",
              "// Max number of bytes which will be uploaded at a time.\n",
              "const MAX_PAYLOAD_SIZE = 100 * 1024;\n",
              "\n",
              "function _uploadFiles(inputId, outputId) {\n",
              "  const steps = uploadFilesStep(inputId, outputId);\n",
              "  const outputElement = document.getElementById(outputId);\n",
              "  // Cache steps on the outputElement to make it available for the next call\n",
              "  // to uploadFilesContinue from Python.\n",
              "  outputElement.steps = steps;\n",
              "\n",
              "  return _uploadFilesContinue(outputId);\n",
              "}\n",
              "\n",
              "// This is roughly an async generator (not supported in the browser yet),\n",
              "// where there are multiple asynchronous steps and the Python side is going\n",
              "// to poll for completion of each step.\n",
              "// This uses a Promise to block the python side on completion of each step,\n",
              "// then passes the result of the previous step as the input to the next step.\n",
              "function _uploadFilesContinue(outputId) {\n",
              "  const outputElement = document.getElementById(outputId);\n",
              "  const steps = outputElement.steps;\n",
              "\n",
              "  const next = steps.next(outputElement.lastPromiseValue);\n",
              "  return Promise.resolve(next.value.promise).then((value) => {\n",
              "    // Cache the last promise value to make it available to the next\n",
              "    // step of the generator.\n",
              "    outputElement.lastPromiseValue = value;\n",
              "    return next.value.response;\n",
              "  });\n",
              "}\n",
              "\n",
              "/**\n",
              " * Generator function which is called between each async step of the upload\n",
              " * process.\n",
              " * @param {string} inputId Element ID of the input file picker element.\n",
              " * @param {string} outputId Element ID of the output display.\n",
              " * @return {!Iterable<!Object>} Iterable of next steps.\n",
              " */\n",
              "function* uploadFilesStep(inputId, outputId) {\n",
              "  const inputElement = document.getElementById(inputId);\n",
              "  inputElement.disabled = false;\n",
              "\n",
              "  const outputElement = document.getElementById(outputId);\n",
              "  outputElement.innerHTML = '';\n",
              "\n",
              "  const pickedPromise = new Promise((resolve) => {\n",
              "    inputElement.addEventListener('change', (e) => {\n",
              "      resolve(e.target.files);\n",
              "    });\n",
              "  });\n",
              "\n",
              "  const cancel = document.createElement('button');\n",
              "  inputElement.parentElement.appendChild(cancel);\n",
              "  cancel.textContent = 'Cancel upload';\n",
              "  const cancelPromise = new Promise((resolve) => {\n",
              "    cancel.onclick = () => {\n",
              "      resolve(null);\n",
              "    };\n",
              "  });\n",
              "\n",
              "  // Wait for the user to pick the files.\n",
              "  const files = yield {\n",
              "    promise: Promise.race([pickedPromise, cancelPromise]),\n",
              "    response: {\n",
              "      action: 'starting',\n",
              "    }\n",
              "  };\n",
              "\n",
              "  cancel.remove();\n",
              "\n",
              "  // Disable the input element since further picks are not allowed.\n",
              "  inputElement.disabled = true;\n",
              "\n",
              "  if (!files) {\n",
              "    return {\n",
              "      response: {\n",
              "        action: 'complete',\n",
              "      }\n",
              "    };\n",
              "  }\n",
              "\n",
              "  for (const file of files) {\n",
              "    const li = document.createElement('li');\n",
              "    li.append(span(file.name, {fontWeight: 'bold'}));\n",
              "    li.append(span(\n",
              "        `(${file.type || 'n/a'}) - ${file.size} bytes, ` +\n",
              "        `last modified: ${\n",
              "            file.lastModifiedDate ? file.lastModifiedDate.toLocaleDateString() :\n",
              "                                    'n/a'} - `));\n",
              "    const percent = span('0% done');\n",
              "    li.appendChild(percent);\n",
              "\n",
              "    outputElement.appendChild(li);\n",
              "\n",
              "    const fileDataPromise = new Promise((resolve) => {\n",
              "      const reader = new FileReader();\n",
              "      reader.onload = (e) => {\n",
              "        resolve(e.target.result);\n",
              "      };\n",
              "      reader.readAsArrayBuffer(file);\n",
              "    });\n",
              "    // Wait for the data to be ready.\n",
              "    let fileData = yield {\n",
              "      promise: fileDataPromise,\n",
              "      response: {\n",
              "        action: 'continue',\n",
              "      }\n",
              "    };\n",
              "\n",
              "    // Use a chunked sending to avoid message size limits. See b/62115660.\n",
              "    let position = 0;\n",
              "    do {\n",
              "      const length = Math.min(fileData.byteLength - position, MAX_PAYLOAD_SIZE);\n",
              "      const chunk = new Uint8Array(fileData, position, length);\n",
              "      position += length;\n",
              "\n",
              "      const base64 = btoa(String.fromCharCode.apply(null, chunk));\n",
              "      yield {\n",
              "        response: {\n",
              "          action: 'append',\n",
              "          file: file.name,\n",
              "          data: base64,\n",
              "        },\n",
              "      };\n",
              "\n",
              "      let percentDone = fileData.byteLength === 0 ?\n",
              "          100 :\n",
              "          Math.round((position / fileData.byteLength) * 100);\n",
              "      percent.textContent = `${percentDone}% done`;\n",
              "\n",
              "    } while (position < fileData.byteLength);\n",
              "  }\n",
              "\n",
              "  // All done.\n",
              "  yield {\n",
              "    response: {\n",
              "      action: 'complete',\n",
              "    }\n",
              "  };\n",
              "}\n",
              "\n",
              "scope.google = scope.google || {};\n",
              "scope.google.colab = scope.google.colab || {};\n",
              "scope.google.colab._files = {\n",
              "  _uploadFiles,\n",
              "  _uploadFilesContinue,\n",
              "};\n",
              "})(self);\n",
              "</script> "
            ]
          },
          "metadata": {}
        },
        {
          "output_type": "stream",
          "name": "stdout",
          "text": [
            "Saving res.pdf to res.pdf\n"
          ]
        }
      ]
    },
    {
      "cell_type": "code",
      "source": [
        "import PyPDF2\n",
        "\n",
        "def extract_text_from_pdf(pdf_path):\n",
        "    text = \"\"\n",
        "    with open(pdf_path, \"rb\") as file:\n",
        "        reader = PyPDF2.PdfReader(file)\n",
        "        for page in reader.pages:\n",
        "            if page.extract_text():\n",
        "                text += page.extract_text() + \"\\n\"\n",
        "    return text\n",
        "\n",
        "# Change \"RESUME1.pdf\" to your uploaded file name\n",
        "resume_text = extract_text_from_pdf(\"res.pdf\")\n",
        "\n",
        "# Print extracted text\n",
        "print(resume_text)\n"
      ],
      "metadata": {
        "colab": {
          "base_uri": "https://localhost:8080/"
        },
        "id": "9x8ayDWT-KMv",
        "outputId": "efcaf130-10d8-49f3-9bf6-0746077d91a9"
      },
      "execution_count": 14,
      "outputs": [
        {
          "output_type": "stream",
          "name": "stdout",
          "text": [
            "Reddi Deepika  \n",
            "Email - deepikareddi2005@gmail.com                                               Git Hub - github.com/deepikareddi05 LinkedIn - \n",
            "linkedin.com/in/deepika -reddi                                                            Phone - +919392344611  \n",
            "Carrer Objective  \n",
            "Aspiring Computer Science and Systems Engineering graduate with a strong foundation in programming, data structures, and \n",
            "software development. Passionate about leveraging technology to solve complex problems and drive innovation. Seeking an \n",
            "opportunity to apply my skills in a dynamic organization that values hard work, responsibility, and growth.  \n",
            "Education  \n",
            "B.Tech in Computer Science and Systems Engineering                                                                2022 -2026  \n",
            "• Lendi Institute of Engineering and Technology, Vizianagaram.  \n",
            "• CGPA: 8.95  \n",
            "Intermediate - 12th grade                                                                                                                  2020 -2022  \n",
            "• Sri Chaitanya Junior College, Vizianagaram.  \n",
            "• Score: 923/1000  \n",
            "Class 10 – Central Board of Secondary Education (CBSE)                                                            2019 -2020  \n",
            "• The Sun School, Vizianagaram  \n",
            "• Score: 456/500  \n",
            "Skills  \n",
            "Technical Skills : C, Java, Python, JavaScript, HTML, CSS, C#  \n",
            "Database Management :  MySQL, DBMS  \n",
            "Tools : WEKA, Packet Tracer, Tableau, VS Code  \n",
            "Soft skills : Communication, Problem -solving, Commit ment, Teamwork and Fast learner  \n",
            " \n",
            "Projects  \n",
            " \n",
            "AI-Based Resume Analyzer                                                                                                                Mar 2025  \n",
            "• Extracts key details from resumes (PDFs) and matches them against job descriptions.  \n",
            "• Tech Stack : Python, NLP , PyPDF2  \n",
            "• Key Features : Skill Matching, Gap Identification, Visualization, User friendly Interface.  \n",
            "Air Quality Checker                                                                                                                              Aug 2024           \n",
            "• Provides gas concentration levels (CO2, O2, NO2) based on location inputs.  \n",
            "• Tech Stack : HTML, CSS, JS, RapidAPI  \n",
            "• Key Features : Real -time data, Geolocation input, API Integration, Instant results, Pollution awareness.  \n",
            "QR Code Generator                                                                                                                            Nov 2024  \n",
            "• Developed a QR Code Generator to create scannable codes for URLs, text, and data.  \n",
            "• Tech Stack : JavaScript, HTML, CSS  \n",
            "• Key Features : Generation, Customization, Preview, Download, Responsive  \n",
            " \n",
            "Certifications | Internships  \n",
            "Privacy and Security in Online Social Media | NPTEL                                                                 Jul - Oct 2023  \n",
            "Affective Computing | NPTEL                                                                                                          Jan - Apr 2024  \n",
            "Design and Implementation of Human -Computer Interfaces|NPTEL                                     Jul - Oct 2024  \n",
            "• Achieved Elite  certification in these three 12 -week courses.  \n",
            " \n",
            "Data Engineering Virtual Internship | India Edu Program                                                         Apr -Jun 2024  \n",
            "• Secured O grade in the 10 -week internship supported by AWS academy.  \n",
            " \n",
            "AI Tools Workhop | be10X                                                                                                              Mar 2025  \n",
            "• Explored practical applications of advanced AI tools in real -world problem -solving.  \n",
            " \n",
            "Achievements  \n",
            " \n",
            "• Secured 2nd place in poster presentation  on Engineers Day conducted by Lendi Institute of Engineering and \n",
            "Technology. | 2023  \n",
            "• Achieved top honours in the Navatarotsav  at Vizianagaram(district) Youth Icon competition. |2024  \n",
            "• Secured B2 grade  in SpeechX  English language proficiency test. | 2023  \n",
            " \n",
            "Leadership and Extracurricular Activities  \n",
            " \n",
            "• National service scheme (NSS) - Participated in various community service projects and demonstrated leadership and \n",
            "teamwork skills. Developed communication and interpersonal skills through interactions with divorce community \n",
            "members and stakeholders.  \n",
            "• Successfully completed the “ HACKTRIAD in Artificial Intelligence ” workshop, exploring advanced AI concepts and \n",
            "their real -world applications through hands -on learning and expert interaction.  \n",
            "\n"
          ]
        }
      ]
    },
    {
      "cell_type": "code",
      "source": [
        "required_keywords = [\"HTML\", \"SQL\", \"Elite\",\"certificate\",\"communication\"]\n"
      ],
      "metadata": {
        "id": "hCpWYTsa-YGY"
      },
      "execution_count": 15,
      "outputs": []
    },
    {
      "cell_type": "code",
      "source": [
        "def analyze_resume(resume_text, job_keywords):\n",
        "    resume_text = resume_text.lower()  # Convert text to lowercase\n",
        "    matched_skills = [skill for skill in job_keywords if skill.lower() in resume_text]\n",
        "    missing_skills = [skill for skill in job_keywords if skill.lower() not in resume_text]\n",
        "\n",
        "    return matched_skills, missing_skills\n",
        "\n",
        "# Analyze resume\n",
        "matched, missing = analyze_resume(resume_text, required_keywords)\n",
        "\n",
        "# Print results\n",
        "print(\"✅ Matched Skills:\", matched)\n",
        "print(\"❌ Missing Skills:\", missing)\n"
      ],
      "metadata": {
        "colab": {
          "base_uri": "https://localhost:8080/"
        },
        "id": "AUAXiNZ_-gMA",
        "outputId": "04b7375e-f8a3-404c-e0a0-d047b7a39707"
      },
      "execution_count": 16,
      "outputs": [
        {
          "output_type": "stream",
          "name": "stdout",
          "text": [
            "✅ Matched Skills: ['HTML', 'SQL', 'Elite', 'communication']\n",
            "❌ Missing Skills: ['certificate']\n"
          ]
        }
      ]
    }
  ]
}